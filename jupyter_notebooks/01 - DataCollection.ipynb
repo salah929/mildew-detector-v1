{
  "cells": [
    {
      "cell_type": "markdown",
      "metadata": {
        "id": "0aStgWSO0E0E"
      },
      "source": [
        "# **Data Collection**"
      ]
    },
    {
      "cell_type": "markdown",
      "metadata": {
        "id": "1eLEkw5O0ECa"
      },
      "source": [
        "## Objectives\n",
        "\n",
        "* Fetch data from Kaggle and prepare it for further processes.\n",
        "\n",
        "## Inputs\n",
        "\n",
        "*   Kaggle JSON file - the authentication token. \n",
        "\n",
        "## Outputs\n",
        "\n",
        "* Generate Dataset: inputs/datasets/mildew_dataset\n",
        "\n",
        "## Additional Comments | Insights | Conclusions\n",
        "\n",
        "\n",
        "* No additional comments.\n"
      ]
    },
    {
      "cell_type": "markdown",
      "metadata": {
        "id": "9uWZXH9LwoQg"
      },
      "source": [
        "---"
      ]
    },
    {
      "cell_type": "markdown",
      "metadata": {
        "id": "HpTc5-PJVH_i"
      },
      "source": [
        "# Import packages"
      ]
    },
    {
      "cell_type": "code",
      "execution_count": 1,
      "metadata": {
        "id": "7AR_SEgkmYDC"
      },
      "outputs": [],
      "source": [
        "import numpy as np\n",
        "import os"
      ]
    },
    {
      "cell_type": "markdown",
      "metadata": {
        "id": "XMkFbSwxmYDC"
      },
      "source": [
        "## Change the working directory"
      ]
    },
    {
      "cell_type": "code",
      "execution_count": null,
      "metadata": {
        "id": "8SooBUDWVIQK"
      },
      "outputs": [],
      "source": [
        "os.chdir('D:\\\\vscode-projects\\\\mildew-detector-v1')\n",
        "print(\"You set a new current directory\")"
      ]
    },
    {
      "cell_type": "code",
      "execution_count": null,
      "metadata": {
        "id": "b107Zs3TmYDD"
      },
      "outputs": [],
      "source": [
        "\n",
        "current_dir = os.getcwd()\n",
        "current_dir"
      ]
    },
    {
      "cell_type": "markdown",
      "metadata": {
        "id": "CoVu2lp8vZi1"
      },
      "source": [
        "# Install Kaggle"
      ]
    },
    {
      "cell_type": "code",
      "execution_count": null,
      "metadata": {
        "id": "zhrMBzbVvZi2"
      },
      "outputs": [],
      "source": [
        "# install kaggle package\n",
        "%pip install kaggle==1.5.12"
      ]
    },
    {
      "cell_type": "markdown",
      "metadata": {
        "id": "qRwFQLlmwrl9"
      },
      "source": [
        "---"
      ]
    },
    {
      "cell_type": "markdown",
      "metadata": {
        "id": "x9BaDpLjM-rP"
      },
      "source": [
        "Run the cell below **to change the Kaggle configuration directory to the current working directory and set permissions for the Kaggle authentication JSON**."
      ]
    },
    {
      "cell_type": "code",
      "execution_count": 15,
      "metadata": {
        "id": "LVlh18YgbyEg"
      },
      "outputs": [],
      "source": [
        "os.environ['KAGGLE_CONFIG_DIR'] = os.getcwd()"
      ]
    },
    {
      "cell_type": "markdown",
      "metadata": {
        "id": "ySAC0yIkNJm4"
      },
      "source": [
        "* Get the dataset path from the [Kaggle URL](https://www.kaggle.com/datasets/codeinstitute/cherry-leaves). When you are viewing the dataset at Kaggle, check what is after https://www.kaggle.com/ (in some cases kaggle.com/datasets). You should copy that at KaggleDatasetPath."
      ]
    },
    {
      "cell_type": "markdown",
      "metadata": {
        "id": "-jg2mrz4aRQf"
      },
      "source": [
        "Set the Kaggle Dataset and Download it."
      ]
    },
    {
      "cell_type": "code",
      "execution_count": null,
      "metadata": {
        "id": "n3u49Wn7byHA"
      },
      "outputs": [],
      "source": [
        "KaggleDatasetPath = \"codeinstitute/cherry-leaves\"\n",
        "DestinationFolder = \"inputs/mildew_dataset\"\n",
        "!kaggle datasets download -d {KaggleDatasetPath} -p {DestinationFolder}"
      ]
    },
    {
      "cell_type": "markdown",
      "metadata": {
        "id": "onuX0tVRNkB8"
      },
      "source": [
        "Unzip the downloaded file, and delete the zip file."
      ]
    },
    {
      "cell_type": "code",
      "execution_count": 17,
      "metadata": {
        "id": "4sJ4a1-RvZi9"
      },
      "outputs": [],
      "source": [
        "import zipfile\n",
        "zip_path = os.path.join(DestinationFolder, 'cherry-leaves.zip')\n",
        "with zipfile.ZipFile(zip_path, 'r') as zip_ref:\n",
        "    zip_ref.extractall(DestinationFolder)\n",
        "os.remove(zip_path)"
      ]
    },
    {
      "cell_type": "markdown",
      "metadata": {
        "id": "b5FvU5UvvZi9"
      },
      "source": [
        "---"
      ]
    },
    {
      "cell_type": "markdown",
      "metadata": {
        "id": "xKUJfg59l1TY"
      },
      "source": [
        "# Data Preparation"
      ]
    },
    {
      "cell_type": "markdown",
      "metadata": {
        "id": "wh5i_Q78vZi-"
      },
      "source": [
        "---"
      ]
    },
    {
      "cell_type": "markdown",
      "metadata": {
        "id": "plF6DoUSvZi-"
      },
      "source": [
        "## Data cleaning"
      ]
    },
    {
      "cell_type": "markdown",
      "metadata": {
        "id": "jWTIucPTvZi-"
      },
      "source": [
        "### Check and remove non-image files"
      ]
    },
    {
      "cell_type": "code",
      "execution_count": 8,
      "metadata": {
        "id": "tyxIhl1PvZi-"
      },
      "outputs": [],
      "source": [
        "def remove_non_image_file(my_data_dir):\n",
        "    image_extensions = ('.png', '.jpg', '.jpeg')\n",
        "    folders = os.listdir(my_data_dir)\n",
        "    \n",
        "    for folder in folders:\n",
        "        folder_path = os.path.join(my_data_dir, folder)\n",
        "        if not os.path.isdir(folder_path):\n",
        "            continue\n",
        "\n",
        "        image_count = 0\n",
        "        non_image_count = 0\n",
        "\n",
        "        for filename in os.listdir(folder_path):\n",
        "            file_path = os.path.join(folder_path, filename)\n",
        "            if not filename.lower().endswith(image_extensions):\n",
        "                os.remove(file_path)\n",
        "                non_image_count += 1\n",
        "            else:\n",
        "                image_count += 1\n",
        "\n",
        "        print(f\"Folder: {folder} - Image files: {image_count}\")\n",
        "        print(f\"Folder: {folder} - Non-image files removed: {non_image_count}\")"
      ]
    },
    {
      "cell_type": "code",
      "execution_count": null,
      "metadata": {
        "id": "r7GhG4y2vZi_"
      },
      "outputs": [],
      "source": [
        "remove_non_image_file(my_data_dir='inputs/mildew_dataset/cherry-leaves')"
      ]
    },
    {
      "cell_type": "markdown",
      "metadata": {
        "id": "Zo5HyvEZgUZC"
      },
      "source": [
        "## Split train validation test set"
      ]
    },
    {
      "cell_type": "code",
      "execution_count": 12,
      "metadata": {
        "id": "Qoz1ZU_EgKDu"
      },
      "outputs": [],
      "source": [
        "import shutil\n",
        "import random\n",
        "import joblib\n",
        "\n",
        "def split_train_validation_test_images(my_data_dir, train_set_ratio, validation_set_ratio, test_set_ratio):\n",
        "    if round(train_set_ratio + validation_set_ratio + test_set_ratio, 2) != 1.0:\n",
        "        print(\"train_set_ratio + validation_set_ratio + test_set_ratio should sum to 1.0\")\n",
        "        return\n",
        "\n",
        "    labels = [label for label in os.listdir(my_data_dir) \n",
        "              if os.path.isdir(os.path.join(my_data_dir, label)) \n",
        "              and label not in ['train', 'validation', 'test']]\n",
        "\n",
        "    for folder in ['train', 'validation', 'test']:\n",
        "        for label in labels:\n",
        "            os.makedirs(os.path.join(my_data_dir, folder, label), exist_ok=True)\n",
        "\n",
        "    for label in labels:\n",
        "        label_path = os.path.join(my_data_dir, label)\n",
        "        files = os.listdir(label_path)\n",
        "        random.shuffle(files)\n",
        "\n",
        "        train_qty = int(len(files) * train_set_ratio)\n",
        "        valid_qty = int(len(files) * validation_set_ratio)\n",
        "\n",
        "        for idx, file_name in enumerate(files):\n",
        "            src = os.path.join(label_path, file_name)\n",
        "\n",
        "            if idx < train_qty:\n",
        "                dst = os.path.join(my_data_dir, 'train', label, file_name)\n",
        "            elif idx < train_qty + valid_qty:\n",
        "                dst = os.path.join(my_data_dir, 'validation', label, file_name)\n",
        "            else:\n",
        "                dst = os.path.join(my_data_dir, 'test', label, file_name)\n",
        "\n",
        "            shutil.move(src, dst)\n",
        "\n",
        "        os.rmdir(label_path)"
      ]
    },
    {
      "cell_type": "markdown",
      "metadata": {
        "id": "74_6OZMWgYIP"
      },
      "source": [
        "Conventionally,\n",
        "* The training set is divided into a 0.70 ratio of data.\n",
        "* The validation set is divided into a 0.10 ratio of data.\n",
        "* The test set is divided into a 0.20 ratio of data."
      ]
    },
    {
      "cell_type": "code",
      "execution_count": 13,
      "metadata": {
        "id": "24e-HbOdgYO1"
      },
      "outputs": [],
      "source": [
        "split_train_validation_test_images(\n",
        "    my_data_dir='inputs/mildew_dataset/cherry-leaves',\n",
        "    train_set_ratio=0.7,\n",
        "    validation_set_ratio=0.1,\n",
        "    test_set_ratio=0.2\n",
        ")"
      ]
    }
  ],
  "metadata": {
    "accelerator": "GPU",
    "colab": {
      "name": "01 - DataCollection.ipynb",
      "provenance": []
    },
    "kernelspec": {
      "display_name": ".venv",
      "language": "python",
      "name": "python3"
    },
    "language_info": {
      "codemirror_mode": {
        "name": "ipython",
        "version": 3
      },
      "file_extension": ".py",
      "mimetype": "text/x-python",
      "name": "python",
      "nbconvert_exporter": "python",
      "pygments_lexer": "ipython3",
      "version": "3.12.8"
    }
  },
  "nbformat": 4,
  "nbformat_minor": 0
}
