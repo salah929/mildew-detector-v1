{
  "cells": [
    {
      "cell_type": "markdown",
      "metadata": {
        "id": "0aStgWSO0E0E"
      },
      "source": [
        "# **Data Collection**"
      ]
    },
    {
      "cell_type": "markdown",
      "metadata": {
        "id": "1eLEkw5O0ECa"
      },
      "source": [
        "## Objectives\n",
        "\n",
        "* Fetch data from Kaggle and prepare it for further processes.\n",
        "\n",
        "## Inputs\n",
        "\n",
        "*   Kaggle JSON file - the authentication token. \n",
        "\n",
        "## Outputs\n",
        "\n",
        "* Generate Dataset: inputs/datasets/mildew_dataset\n",
        "\n",
        "## Additional Comments | Insights | Conclusions\n",
        "\n",
        "\n",
        "* No additional comments.\n"
      ]
    },
    {
      "cell_type": "markdown",
      "metadata": {
        "id": "9uWZXH9LwoQg"
      },
      "source": [
        "---"
      ]
    },
    {
      "cell_type": "markdown",
      "metadata": {
        "id": "HpTc5-PJVH_i"
      },
      "source": [
        "# Import packages"
      ]
    },
    {
      "cell_type": "code",
      "execution_count": 1,
      "metadata": {
        "id": "7AR_SEgkmYDC"
      },
      "outputs": [],
      "source": [
        "import numpy as np\n",
        "import os"
      ]
    },
    {
      "cell_type": "markdown",
      "metadata": {
        "id": "XMkFbSwxmYDC"
      },
      "source": [
        "## Change the working directory"
      ]
    },
    {
      "cell_type": "code",
      "execution_count": 2,
      "metadata": {
        "id": "8SooBUDWVIQK"
      },
      "outputs": [
        {
          "name": "stdout",
          "output_type": "stream",
          "text": [
            "You set a new current directory\n"
          ]
        }
      ],
      "source": [
        "os.chdir('D:\\\\vscode-projects\\\\mildew-detector-v1')\n",
        "print(\"You set a new current directory\")"
      ]
    },
    {
      "cell_type": "code",
      "execution_count": 3,
      "metadata": {
        "id": "b107Zs3TmYDD"
      },
      "outputs": [
        {
          "data": {
            "text/plain": [
              "'D:\\\\vscode-projects\\\\mildew-detector-v1'"
            ]
          },
          "execution_count": 3,
          "metadata": {},
          "output_type": "execute_result"
        }
      ],
      "source": [
        "\n",
        "current_dir = os.getcwd()\n",
        "current_dir"
      ]
    },
    {
      "cell_type": "markdown",
      "metadata": {
        "id": "CoVu2lp8vZi1"
      },
      "source": [
        "# Install Kaggle"
      ]
    },
    {
      "cell_type": "code",
      "execution_count": 14,
      "metadata": {
        "id": "zhrMBzbVvZi2"
      },
      "outputs": [
        {
          "name": "stdout",
          "output_type": "stream",
          "text": [
            "Requirement already satisfied: kaggle==1.5.12 in d:\\vscode-projects\\mildew-detector-v1\\.venv\\lib\\site-packages (1.5.12)\n",
            "Requirement already satisfied: six>=1.10 in d:\\vscode-projects\\mildew-detector-v1\\.venv\\lib\\site-packages (from kaggle==1.5.12) (1.17.0)\n",
            "Requirement already satisfied: certifi in d:\\vscode-projects\\mildew-detector-v1\\.venv\\lib\\site-packages (from kaggle==1.5.12) (2025.7.14)\n",
            "Requirement already satisfied: python-dateutil in d:\\vscode-projects\\mildew-detector-v1\\.venv\\lib\\site-packages (from kaggle==1.5.12) (2.9.0.post0)\n",
            "Requirement already satisfied: requests in d:\\vscode-projects\\mildew-detector-v1\\.venv\\lib\\site-packages (from kaggle==1.5.12) (2.32.4)\n",
            "Requirement already satisfied: tqdm in d:\\vscode-projects\\mildew-detector-v1\\.venv\\lib\\site-packages (from kaggle==1.5.12) (4.67.1)\n",
            "Requirement already satisfied: python-slugify in d:\\vscode-projects\\mildew-detector-v1\\.venv\\lib\\site-packages (from kaggle==1.5.12) (8.0.4)\n",
            "Requirement already satisfied: urllib3 in d:\\vscode-projects\\mildew-detector-v1\\.venv\\lib\\site-packages (from kaggle==1.5.12) (2.5.0)\n",
            "Requirement already satisfied: text-unidecode>=1.3 in d:\\vscode-projects\\mildew-detector-v1\\.venv\\lib\\site-packages (from python-slugify->kaggle==1.5.12) (1.3)\n",
            "Requirement already satisfied: charset_normalizer<4,>=2 in d:\\vscode-projects\\mildew-detector-v1\\.venv\\lib\\site-packages (from requests->kaggle==1.5.12) (3.4.2)\n",
            "Requirement already satisfied: idna<4,>=2.5 in d:\\vscode-projects\\mildew-detector-v1\\.venv\\lib\\site-packages (from requests->kaggle==1.5.12) (3.10)\n",
            "Requirement already satisfied: colorama in d:\\vscode-projects\\mildew-detector-v1\\.venv\\lib\\site-packages (from tqdm->kaggle==1.5.12) (0.4.6)\n",
            "Note: you may need to restart the kernel to use updated packages.\n"
          ]
        }
      ],
      "source": [
        "# install kaggle package\n",
        "%pip install kaggle==1.5.12"
      ]
    },
    {
      "cell_type": "markdown",
      "metadata": {
        "id": "qRwFQLlmwrl9"
      },
      "source": [
        "---"
      ]
    },
    {
      "cell_type": "markdown",
      "metadata": {
        "id": "x9BaDpLjM-rP"
      },
      "source": [
        "Run the cell below **to change the Kaggle configuration directory to the current working directory and set permissions for the Kaggle authentication JSON**."
      ]
    },
    {
      "cell_type": "code",
      "execution_count": 15,
      "metadata": {
        "id": "LVlh18YgbyEg"
      },
      "outputs": [],
      "source": [
        "os.environ['KAGGLE_CONFIG_DIR'] = os.getcwd()"
      ]
    },
    {
      "cell_type": "markdown",
      "metadata": {
        "id": "ySAC0yIkNJm4"
      },
      "source": [
        "* Get the dataset path from the [Kaggle URL](https://www.kaggle.com/datasets/codeinstitute/cherry-leaves). When you are viewing the dataset at Kaggle, check what is after https://www.kaggle.com/ (in some cases kaggle.com/datasets). You should copy that at KaggleDatasetPath."
      ]
    },
    {
      "cell_type": "markdown",
      "metadata": {
        "id": "-jg2mrz4aRQf"
      },
      "source": [
        "Set the Kaggle Dataset and Download it."
      ]
    },
    {
      "cell_type": "code",
      "execution_count": 16,
      "metadata": {
        "id": "n3u49Wn7byHA"
      },
      "outputs": [
        {
          "name": "stdout",
          "output_type": "stream",
          "text": [
            "Downloading cherry-leaves.zip to inputs/mildew_dataset\n",
            "\n"
          ]
        },
        {
          "name": "stderr",
          "output_type": "stream",
          "text": [
            "\n",
            "  0%|          | 0.00/55.0M [00:00<?, ?B/s]\n",
            "  2%|▏         | 1.00M/55.0M [00:00<00:33, 1.67MB/s]\n",
            "  4%|▎         | 2.00M/55.0M [00:00<00:18, 2.99MB/s]\n",
            "  5%|▌         | 3.00M/55.0M [00:00<00:13, 3.97MB/s]\n",
            "  7%|▋         | 4.00M/55.0M [00:01<00:12, 4.22MB/s]\n",
            "  9%|▉         | 5.00M/55.0M [00:01<00:10, 4.87MB/s]\n",
            " 11%|█         | 6.00M/55.0M [00:01<00:09, 5.37MB/s]\n",
            " 13%|█▎        | 7.00M/55.0M [00:01<00:08, 5.76MB/s]\n",
            " 15%|█▍        | 8.00M/55.0M [00:01<00:08, 6.03MB/s]\n",
            " 16%|█▋        | 9.00M/55.0M [00:01<00:07, 6.24MB/s]\n",
            " 18%|█▊        | 10.0M/55.0M [00:02<00:07, 6.32MB/s]\n",
            " 20%|█▉        | 11.0M/55.0M [00:02<00:07, 6.44MB/s]\n",
            " 22%|██▏       | 12.0M/55.0M [00:02<00:06, 6.55MB/s]\n",
            " 24%|██▎       | 13.0M/55.0M [00:02<00:07, 5.82MB/s]\n",
            " 25%|██▌       | 14.0M/55.0M [00:02<00:07, 6.09MB/s]\n",
            " 27%|██▋       | 15.0M/55.0M [00:02<00:06, 6.26MB/s]\n",
            " 29%|██▉       | 16.0M/55.0M [00:03<00:06, 6.37MB/s]\n",
            " 31%|███       | 17.0M/55.0M [00:03<00:06, 6.49MB/s]\n",
            " 33%|███▎      | 18.0M/55.0M [00:03<00:05, 6.55MB/s]\n",
            " 35%|███▍      | 19.0M/55.0M [00:03<00:05, 6.60MB/s]\n",
            " 36%|███▋      | 20.0M/55.0M [00:03<00:05, 6.50MB/s]\n",
            " 38%|███▊      | 21.0M/55.0M [00:03<00:05, 6.62MB/s]\n",
            " 40%|███▉      | 22.0M/55.0M [00:04<00:05, 6.58MB/s]\n",
            " 42%|████▏     | 23.0M/55.0M [00:04<00:05, 6.61MB/s]\n",
            " 44%|████▎     | 24.0M/55.0M [00:04<00:04, 6.65MB/s]\n",
            " 45%|████▌     | 25.0M/55.0M [00:04<00:04, 6.64MB/s]\n",
            " 47%|████▋     | 26.0M/55.0M [00:04<00:04, 6.64MB/s]\n",
            " 49%|████▉     | 27.0M/55.0M [00:04<00:04, 6.69MB/s]\n",
            " 51%|█████     | 28.0M/55.0M [00:05<00:04, 6.67MB/s]\n",
            " 53%|█████▎    | 29.0M/55.0M [00:05<00:04, 6.69MB/s]\n",
            " 55%|█████▍    | 30.0M/55.0M [00:05<00:03, 6.69MB/s]\n",
            " 56%|█████▋    | 31.0M/55.0M [00:05<00:03, 6.70MB/s]\n",
            " 58%|█████▊    | 32.0M/55.0M [00:05<00:03, 6.14MB/s]\n",
            " 60%|█████▉    | 33.0M/55.0M [00:05<00:04, 5.30MB/s]\n",
            " 62%|██████▏   | 34.0M/55.0M [00:06<00:03, 5.60MB/s]\n",
            " 64%|██████▎   | 35.0M/55.0M [00:06<00:03, 5.93MB/s]\n",
            " 65%|██████▌   | 36.0M/55.0M [00:06<00:03, 6.15MB/s]\n",
            " 67%|██████▋   | 37.0M/55.0M [00:06<00:03, 6.29MB/s]\n",
            " 69%|██████▉   | 38.0M/55.0M [00:06<00:02, 6.43MB/s]\n",
            " 71%|███████   | 39.0M/55.0M [00:06<00:02, 6.53MB/s]\n",
            " 73%|███████▎  | 40.0M/55.0M [00:07<00:02, 6.56MB/s]\n",
            " 75%|███████▍  | 41.0M/55.0M [00:07<00:02, 6.61MB/s]\n",
            " 76%|███████▋  | 42.0M/55.0M [00:07<00:02, 6.64MB/s]\n",
            " 78%|███████▊  | 43.0M/55.0M [00:07<00:01, 6.66MB/s]\n",
            " 80%|███████▉  | 44.0M/55.0M [00:07<00:01, 6.69MB/s]\n",
            " 82%|████████▏ | 45.0M/55.0M [00:07<00:01, 6.69MB/s]\n",
            " 84%|████████▎ | 46.0M/55.0M [00:07<00:01, 6.67MB/s]\n",
            " 85%|████████▌ | 47.0M/55.0M [00:08<00:01, 6.67MB/s]\n",
            " 87%|████████▋ | 48.0M/55.0M [00:08<00:01, 6.70MB/s]\n",
            " 89%|████████▉ | 49.0M/55.0M [00:08<00:00, 6.69MB/s]\n",
            " 91%|█████████ | 50.0M/55.0M [00:08<00:00, 6.73MB/s]\n",
            " 93%|█████████▎| 51.0M/55.0M [00:08<00:00, 6.73MB/s]\n",
            " 95%|█████████▍| 52.0M/55.0M [00:08<00:00, 6.71MB/s]\n",
            " 96%|█████████▋| 53.0M/55.0M [00:09<00:00, 6.67MB/s]\n",
            " 98%|█████████▊| 54.0M/55.0M [00:09<00:00, 6.74MB/s]\n",
            "100%|█████████▉| 55.0M/55.0M [00:09<00:00, 6.71MB/s]\n",
            "100%|██████████| 55.0M/55.0M [00:09<00:00, 6.15MB/s]\n"
          ]
        }
      ],
      "source": [
        "KaggleDatasetPath = \"codeinstitute/cherry-leaves\"\n",
        "DestinationFolder = \"inputs/mildew_dataset\"\n",
        "!kaggle datasets download -d {KaggleDatasetPath} -p {DestinationFolder}"
      ]
    },
    {
      "cell_type": "markdown",
      "metadata": {
        "id": "onuX0tVRNkB8"
      },
      "source": [
        "Unzip the downloaded file, and delete the zip file."
      ]
    },
    {
      "cell_type": "code",
      "execution_count": 17,
      "metadata": {
        "id": "4sJ4a1-RvZi9"
      },
      "outputs": [],
      "source": [
        "import zipfile\n",
        "zip_path = os.path.join(DestinationFolder, 'cherry-leaves.zip')\n",
        "with zipfile.ZipFile(zip_path, 'r') as zip_ref:\n",
        "    zip_ref.extractall(DestinationFolder)\n",
        "os.remove(zip_path)"
      ]
    },
    {
      "cell_type": "markdown",
      "metadata": {
        "id": "b5FvU5UvvZi9"
      },
      "source": [
        "---"
      ]
    },
    {
      "cell_type": "markdown",
      "metadata": {
        "id": "xKUJfg59l1TY"
      },
      "source": [
        "# Data Preparation"
      ]
    },
    {
      "cell_type": "markdown",
      "metadata": {
        "id": "wh5i_Q78vZi-"
      },
      "source": [
        "---"
      ]
    },
    {
      "cell_type": "markdown",
      "metadata": {
        "id": "plF6DoUSvZi-"
      },
      "source": [
        "## Data cleaning"
      ]
    },
    {
      "cell_type": "markdown",
      "metadata": {
        "id": "jWTIucPTvZi-"
      },
      "source": [
        "### Check and remove non-image files"
      ]
    },
    {
      "cell_type": "code",
      "execution_count": 8,
      "metadata": {
        "id": "tyxIhl1PvZi-"
      },
      "outputs": [],
      "source": [
        "def remove_non_image_file(my_data_dir):\n",
        "    image_extensions = ('.png', '.jpg', '.jpeg')\n",
        "    folders = os.listdir(my_data_dir)\n",
        "    \n",
        "    for folder in folders:\n",
        "        folder_path = os.path.join(my_data_dir, folder)\n",
        "        if not os.path.isdir(folder_path):\n",
        "            continue\n",
        "\n",
        "        image_count = 0\n",
        "        non_image_count = 0\n",
        "\n",
        "        for filename in os.listdir(folder_path):\n",
        "            file_path = os.path.join(folder_path, filename)\n",
        "            if not filename.lower().endswith(image_extensions):\n",
        "                os.remove(file_path)\n",
        "                non_image_count += 1\n",
        "            else:\n",
        "                image_count += 1\n",
        "\n",
        "        print(f\"Folder: {folder} - Image files: {image_count}\")\n",
        "        print(f\"Folder: {folder} - Non-image files removed: {non_image_count}\")"
      ]
    },
    {
      "cell_type": "code",
      "execution_count": 9,
      "metadata": {
        "id": "r7GhG4y2vZi_"
      },
      "outputs": [
        {
          "name": "stdout",
          "output_type": "stream",
          "text": [
            "Folder: healthy - Image files: 2104\n",
            "Folder: healthy - Non-image files removed: 0\n",
            "Folder: powdery_mildew - Image files: 2104\n",
            "Folder: powdery_mildew - Non-image files removed: 0\n"
          ]
        }
      ],
      "source": [
        "remove_non_image_file(my_data_dir='inputs/mildew_dataset/cherry-leaves')"
      ]
    },
    {
      "cell_type": "markdown",
      "metadata": {
        "id": "Zo5HyvEZgUZC"
      },
      "source": [
        "## Split train validation test set"
      ]
    },
    {
      "cell_type": "code",
      "execution_count": 12,
      "metadata": {
        "id": "Qoz1ZU_EgKDu"
      },
      "outputs": [],
      "source": [
        "import shutil\n",
        "import random\n",
        "import joblib\n",
        "\n",
        "def split_train_validation_test_images(my_data_dir, train_set_ratio, validation_set_ratio, test_set_ratio):\n",
        "    if round(train_set_ratio + validation_set_ratio + test_set_ratio, 2) != 1.0:\n",
        "        print(\"train_set_ratio + validation_set_ratio + test_set_ratio should sum to 1.0\")\n",
        "        return\n",
        "\n",
        "    labels = [label for label in os.listdir(my_data_dir) \n",
        "              if os.path.isdir(os.path.join(my_data_dir, label)) \n",
        "              and label not in ['train', 'validation', 'test']]\n",
        "\n",
        "    for folder in ['train', 'validation', 'test']:\n",
        "        for label in labels:\n",
        "            os.makedirs(os.path.join(my_data_dir, folder, label), exist_ok=True)\n",
        "\n",
        "    for label in labels:\n",
        "        label_path = os.path.join(my_data_dir, label)\n",
        "        files = os.listdir(label_path)\n",
        "        random.shuffle(files)\n",
        "\n",
        "        train_qty = int(len(files) * train_set_ratio)\n",
        "        valid_qty = int(len(files) * validation_set_ratio)\n",
        "\n",
        "        for idx, file_name in enumerate(files):\n",
        "            src = os.path.join(label_path, file_name)\n",
        "\n",
        "            if idx < train_qty:\n",
        "                dst = os.path.join(my_data_dir, 'train', label, file_name)\n",
        "            elif idx < train_qty + valid_qty:\n",
        "                dst = os.path.join(my_data_dir, 'validation', label, file_name)\n",
        "            else:\n",
        "                dst = os.path.join(my_data_dir, 'test', label, file_name)\n",
        "\n",
        "            shutil.move(src, dst)\n",
        "\n",
        "        os.rmdir(label_path)"
      ]
    },
    {
      "cell_type": "markdown",
      "metadata": {
        "id": "74_6OZMWgYIP"
      },
      "source": [
        "Conventionally,\n",
        "* The training set is divided into a 0.70 ratio of data.\n",
        "* The validation set is divided into a 0.10 ratio of data.\n",
        "* The test set is divided into a 0.20 ratio of data."
      ]
    },
    {
      "cell_type": "code",
      "execution_count": 13,
      "metadata": {
        "id": "24e-HbOdgYO1"
      },
      "outputs": [],
      "source": [
        "split_train_validation_test_images(\n",
        "    my_data_dir='inputs/mildew_dataset/cherry-leaves',\n",
        "    train_set_ratio=0.7,\n",
        "    validation_set_ratio=0.1,\n",
        "    test_set_ratio=0.2\n",
        ")"
      ]
    },
    {
      "cell_type": "markdown",
      "metadata": {
        "id": "ctcuyZrmhKYo"
      },
      "source": [
        "---"
      ]
    }
  ],
  "metadata": {
    "accelerator": "GPU",
    "colab": {
      "name": "01 - DataCollection.ipynb",
      "provenance": []
    },
    "kernelspec": {
      "display_name": ".venv",
      "language": "python",
      "name": "python3"
    },
    "language_info": {
      "codemirror_mode": {
        "name": "ipython",
        "version": 3
      },
      "file_extension": ".py",
      "mimetype": "text/x-python",
      "name": "python",
      "nbconvert_exporter": "python",
      "pygments_lexer": "ipython3",
      "version": "3.12.8"
    }
  },
  "nbformat": 4,
  "nbformat_minor": 0
}
