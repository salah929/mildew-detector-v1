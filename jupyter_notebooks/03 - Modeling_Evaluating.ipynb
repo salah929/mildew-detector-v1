{
  "cells": [
    {
      "cell_type": "markdown",
      "metadata": {
        "id": "0aStgWSO0E0E"
      },
      "source": [
        "# Modeling and Evaluation"
      ]
    },
    {
      "cell_type": "markdown",
      "metadata": {
        "id": "1eLEkw5O0ECa"
      },
      "source": [
        "## Objectives\n",
        "\n",
        "* **Answer business requirement 2**:  \n",
        "    * The client wants a system that can **predict whether a cherry leaf is healthy or affected by mildew**.\n",
        "\n",
        "## Inputs\n",
        "\n",
        "* `inputs/mildew_dataset/cherry-leaves/train`\n",
        "* `inputs/mildew_dataset/cherry-leaves/test`\n",
        "* `inputs/mildew_dataset/cherry-leaves/validation`\n",
        "* Image shape embedding from previous notebook\n",
        "\n",
        "## Outputs\n",
        "\n",
        "* Visual class distribution in each split\n",
        "* Augmented training images for generalization\n",
        "* Mapping of class indices to labels\n",
        "* CNN model: training, validation, and saving\n",
        "* Training history plot (accuracy/loss)\n",
        "* Evaluation on test set\n",
        "* Random prediction from test images\n",
        "\n",
        "## Additional Comments | Insights | Conclusions\n",
        "\n",
        "* This notebook develops and evaluates the mildew classification model\n"
      ]
    },
    {
      "cell_type": "markdown",
      "metadata": {
        "id": "9uWZXH9LwoQg"
      },
      "source": [
        "---"
      ]
    },
    {
      "cell_type": "markdown",
      "metadata": {
        "id": "t2oPUd1K_qCr"
      },
      "source": [
        "# Import regular packages"
      ]
    },
    {
      "cell_type": "code",
      "execution_count": 1,
      "metadata": {
        "id": "oqqga261_w4N"
      },
      "outputs": [],
      "source": [
        "import os\n",
        "import pandas as pd\n",
        "import numpy as np\n",
        "import matplotlib.pyplot as plt\n",
        "import seaborn as sns\n",
        "from matplotlib.image import imread"
      ]
    },
    {
      "cell_type": "markdown",
      "metadata": {
        "id": "qRwFQLlmwrl9"
      },
      "source": [
        "---"
      ]
    },
    {
      "cell_type": "markdown",
      "metadata": {
        "id": "t2oPUd1K_qCr"
      },
      "source": [
        "# Set Working Directory"
      ]
    },
    {
      "cell_type": "code",
      "execution_count": null,
      "metadata": {
        "id": "8SooBUDWVIQK"
      },
      "outputs": [],
      "source": [
        "cwd= os.getcwd()\n",
        "cwd"
      ]
    },
    {
      "cell_type": "code",
      "execution_count": null,
      "metadata": {
        "id": "EQ7j8jHhmYDD"
      },
      "outputs": [],
      "source": [
        "os.chdir('d:\\\\vscode-projects\\\\mildew-detector-v1')\n",
        "print(\"You set a new current directory\")"
      ]
    },
    {
      "cell_type": "code",
      "execution_count": null,
      "metadata": {
        "id": "b107Zs3TmYDD"
      },
      "outputs": [],
      "source": [
        "\n",
        "work_dir = os.getcwd()\n",
        "work_dir"
      ]
    },
    {
      "cell_type": "markdown",
      "metadata": {
        "id": "qRwFQLlmwrl9"
      },
      "source": [
        "---"
      ]
    },
    {
      "cell_type": "markdown",
      "metadata": {
        "id": "czVrQtLccTJb"
      },
      "source": [
        "## Set input directories"
      ]
    },
    {
      "cell_type": "markdown",
      "metadata": {
        "id": "sx2ZqnpDcY2H"
      },
      "source": [
        "Set train, validation and test paths"
      ]
    },
    {
      "cell_type": "code",
      "execution_count": 5,
      "metadata": {
        "id": "5eucaA9M6qz1"
      },
      "outputs": [],
      "source": [
        "my_data_dir = os.path.join('inputs', 'mildew_dataset', 'cherry-leaves')\n",
        "train_path = os.path.join(my_data_dir, 'train')\n",
        "val_path = os.path.join(my_data_dir, 'validation')\n",
        "test_path = os.path.join(my_data_dir, 'test')"
      ]
    },
    {
      "cell_type": "markdown",
      "metadata": {
        "id": "czVrQtLccTJb"
      },
      "source": [
        "## Set output directory"
      ]
    },
    {
      "cell_type": "code",
      "execution_count": null,
      "metadata": {},
      "outputs": [],
      "source": [
        "version = 'v1'\n",
        "file_path = os.path.join('outputs', version)\n",
        "\n",
        "if 'outputs' in os.listdir(work_dir) and version in os.listdir(os.path.join(work_dir, 'outputs')):\n",
        "    print('Old version is already available, create a new version.')\n",
        "else:\n",
        "    os.makedirs(file_path)"
      ]
    },
    {
      "cell_type": "markdown",
      "metadata": {
        "id": "czVrQtLccTJb"
      },
      "source": [
        "## Set labels"
      ]
    },
    {
      "cell_type": "code",
      "execution_count": null,
      "metadata": {
        "id": "ntzIpcxb3oIE"
      },
      "outputs": [],
      "source": [
        "labels = os.listdir(train_path)\n",
        "print(f\"Project Labels: {labels}\")"
      ]
    },
    {
      "cell_type": "markdown",
      "metadata": {},
      "source": [
        "## Set image shape"
      ]
    },
    {
      "cell_type": "code",
      "execution_count": null,
      "metadata": {},
      "outputs": [],
      "source": [
        "## Import saved image shape embedding\n",
        "import joblib\n",
        "\n",
        "version = 'v1'\n",
        "image_shape = joblib.load(os.path.join('outputs', version, 'image_shape.pkl'))\n",
        "image_shape"
      ]
    },
    {
      "cell_type": "markdown",
      "metadata": {
        "id": "oSTKDM0XvuVu"
      },
      "source": [
        "---"
      ]
    },
    {
      "cell_type": "markdown",
      "metadata": {
        "id": "qQ0p1nYJ_3sx"
      },
      "source": [
        "# Number of images in train, test and validation data"
      ]
    },
    {
      "cell_type": "code",
      "execution_count": null,
      "metadata": {
        "id": "TeOv0tCn3_Y_"
      },
      "outputs": [],
      "source": [
        "data = {'Set': [], 'Label': [], 'Frequency': []}\n",
        "folders = ['train', 'validation', 'test']\n",
        "\n",
        "for folder in folders:\n",
        "    for label in labels:\n",
        "        folder_path = os.path.join(my_data_dir, folder, label)\n",
        "        count = len(os.listdir(folder_path))\n",
        "        data['Set'].append(folder)\n",
        "        data['Label'].append(label)\n",
        "        data['Frequency'].append(count)\n",
        "        print(f\"* {folder} - {label}: {count} images\")\n",
        "\n",
        "df_freq = pd.DataFrame(data)\n",
        "\n",
        "print(\"\\n\")\n",
        "sns.set_style(\"whitegrid\")\n",
        "plt.figure(figsize=(8, 5))\n",
        "sns.barplot(\n",
        "    data=df_freq,\n",
        "    x='Set',\n",
        "    y='Frequency',\n",
        "    hue='Label',\n",
        "    palette='Set2'\n",
        ")\n",
        "plt.title(\"Image Count per Dataset Split\")\n",
        "plt.ylabel(\"Number of Images\")\n",
        "plt.tight_layout()\n",
        "plt.show()"
      ]
    },
    {
      "cell_type": "markdown",
      "metadata": {
        "id": "Zp4l-B11vCiP"
      },
      "source": [
        "---"
      ]
    },
    {
      "cell_type": "markdown",
      "metadata": {
        "id": "qved3ALYLrng"
      },
      "source": [
        "# Image data augmentation"
      ]
    },
    {
      "cell_type": "markdown",
      "metadata": {
        "id": "qRwFQLlmwrl9"
      },
      "source": [
        "---"
      ]
    },
    {
      "cell_type": "markdown",
      "metadata": {},
      "source": [
        "### ImageDataGenerator"
      ]
    },
    {
      "cell_type": "code",
      "execution_count": 13,
      "metadata": {
        "id": "BMU8_F6ZAfjS"
      },
      "outputs": [],
      "source": [
        "from tensorflow.keras.preprocessing.image import ImageDataGenerator"
      ]
    },
    {
      "cell_type": "markdown",
      "metadata": {},
      "source": [
        "* ### Initialize ImageDataGenerator"
      ]
    },
    {
      "cell_type": "code",
      "execution_count": 14,
      "metadata": {
        "id": "nIkD9esZAhTm"
      },
      "outputs": [],
      "source": [
        "augmented_image_data = ImageDataGenerator(\n",
        "    rotation_range=20,\n",
        "    width_shift_range=0.10,\n",
        "    height_shift_range=0.10,\n",
        "    shear_range=0.1,\n",
        "    zoom_range=0.1,\n",
        "    horizontal_flip=True,\n",
        "    vertical_flip=True,\n",
        "    fill_mode='nearest',\n",
        "    rescale=1./255\n",
        ")"
      ]
    },
    {
      "cell_type": "markdown",
      "metadata": {},
      "source": [
        "* ### Augment training image dataset"
      ]
    },
    {
      "cell_type": "code",
      "execution_count": null,
      "metadata": {
        "id": "08qYmeq3FE-e"
      },
      "outputs": [],
      "source": [
        "batch_size = 20  # Set batch size\n",
        "\n",
        "train_set = augmented_image_data.flow_from_directory(\n",
        "    train_path,\n",
        "    target_size=image_shape[:2],\n",
        "    color_mode='rgb',\n",
        "    batch_size=batch_size,\n",
        "    class_mode='binary',\n",
        "    shuffle=True\n",
        ")\n",
        "\n",
        "train_set.class_indices"
      ]
    },
    {
      "cell_type": "markdown",
      "metadata": {
        "id": "3cAwum1tWsmz"
      },
      "source": [
        "* ### Augment validation image dataset"
      ]
    },
    {
      "cell_type": "code",
      "execution_count": null,
      "metadata": {
        "id": "pi6LZ9oJMPHB"
      },
      "outputs": [],
      "source": [
        "validation_set = ImageDataGenerator(rescale=1./255).flow_from_directory(\n",
        "    val_path,\n",
        "    target_size=image_shape[:2],\n",
        "    color_mode='rgb',\n",
        "    batch_size=batch_size,\n",
        "    class_mode='binary',\n",
        "    shuffle=False\n",
        ")\n",
        "\n",
        "validation_set.class_indices"
      ]
    },
    {
      "cell_type": "markdown",
      "metadata": {
        "id": "jxDzlWdBXGGI"
      },
      "source": [
        "* ### Augment test image dataset"
      ]
    },
    {
      "cell_type": "code",
      "execution_count": null,
      "metadata": {
        "id": "egJ0XQSkQZ7i"
      },
      "outputs": [],
      "source": [
        "test_set = ImageDataGenerator(rescale=1./255).flow_from_directory(\n",
        "    test_path,\n",
        "    target_size=image_shape[:2],\n",
        "    color_mode='rgb',\n",
        "    batch_size=batch_size,\n",
        "    class_mode='binary',\n",
        "    shuffle=False\n",
        ")\n",
        "\n",
        "test_set.class_indices"
      ]
    },
    {
      "cell_type": "markdown",
      "metadata": {},
      "source": [
        "## Plot augmented training image"
      ]
    },
    {
      "cell_type": "code",
      "execution_count": null,
      "metadata": {},
      "outputs": [],
      "source": [
        "# Plot a few augmented training images\n",
        "for _ in range(3):\n",
        "    img_batch, label_batch = next(train_set)\n",
        "    print(img_batch.shape)  # e.g. (20, 256, 256, 3)\n",
        "    plt.imshow(img_batch[0])\n",
        "    plt.axis('off')\n",
        "    plt.title(f\"Label: {int(label_batch[0])}\")\n",
        "    plt.show()"
      ]
    },
    {
      "cell_type": "markdown",
      "metadata": {
        "id": "sxFqIpblnaDI"
      },
      "source": [
        "## Save class_indices"
      ]
    },
    {
      "cell_type": "code",
      "execution_count": null,
      "metadata": {
        "id": "c60wT9Nvnaht"
      },
      "outputs": [],
      "source": [
        "joblib.dump(value=train_set.class_indices,\n",
        "            filename=os.path.join(file_path, 'class_indices.pkl'))"
      ]
    },
    {
      "cell_type": "markdown",
      "metadata": {
        "id": "Zp4l-B11vCiP"
      },
      "source": [
        "---"
      ]
    },
    {
      "cell_type": "markdown",
      "metadata": {
        "id": "qved3ALYLrng"
      },
      "source": [
        "# Model creation"
      ]
    },
    {
      "cell_type": "markdown",
      "metadata": {
        "id": "qRwFQLlmwrl9"
      },
      "source": [
        "---"
      ]
    },
    {
      "cell_type": "markdown",
      "metadata": {
        "id": "lp60ceJkvFab"
      },
      "source": [
        "## ML model"
      ]
    },
    {
      "cell_type": "markdown",
      "metadata": {},
      "source": [
        "* ### Import model packages"
      ]
    },
    {
      "cell_type": "code",
      "execution_count": null,
      "metadata": {},
      "outputs": [],
      "source": [
        "from tensorflow.keras.models import Sequential\n",
        "from tensorflow.keras.layers import Conv2D, MaxPooling2D, Flatten, Dense, Dropout"
      ]
    },
    {
      "cell_type": "markdown",
      "metadata": {},
      "source": [
        "* ### Model "
      ]
    },
    {
      "cell_type": "code",
      "execution_count": 48,
      "metadata": {
        "id": "3em0FUWzBTCF"
      },
      "outputs": [],
      "source": [
        "def create_tf_model():\n",
        "    model = Sequential()\n",
        "\n",
        "    model.add(Conv2D(filters=8, kernel_size=(3, 3), activation='relu', input_shape=image_shape))\n",
        "    model.add(MaxPooling2D(pool_size=(2, 2)))\n",
        "\n",
        "    model.add(Conv2D(filters=8, kernel_size=(3, 3), activation='relu'))\n",
        "    model.add(MaxPooling2D(pool_size=(2, 2)))\n",
        "\n",
        "    model.add(Conv2D(filters=8, kernel_size=(3, 3), activation='relu'))\n",
        "    model.add(MaxPooling2D(pool_size=(2, 2)))\n",
        "\n",
        "    model.add(Flatten())\n",
        "    model.add(Dense(units=32, activation='relu'))\n",
        "    model.add(Dropout(rate=0.5))\n",
        "    model.add(Dense(units=1, activation='sigmoid'))\n",
        "\n",
        "    model.compile(\n",
        "        optimizer='adam',\n",
        "        loss='binary_crossentropy',\n",
        "        metrics=['accuracy']\n",
        "    )\n",
        "\n",
        "    return model"
      ]
    },
    {
      "cell_type": "markdown",
      "metadata": {},
      "source": [
        "* ### Model Summary "
      ]
    },
    {
      "cell_type": "code",
      "execution_count": null,
      "metadata": {
        "id": "x0fnaUSeBTFy"
      },
      "outputs": [],
      "source": [
        "create_tf_model().summary()"
      ]
    },
    {
      "cell_type": "markdown",
      "metadata": {},
      "source": [
        "* ### Early Stopping "
      ]
    },
    {
      "cell_type": "code",
      "execution_count": 50,
      "metadata": {
        "id": "49bP61QYBTMF"
      },
      "outputs": [],
      "source": [
        "from tensorflow.keras.callbacks import EarlyStopping\n",
        "early_stop = EarlyStopping(monitor='val_loss', patience=3)"
      ]
    },
    {
      "cell_type": "markdown",
      "metadata": {
        "id": "5-Sv_Nlfzr5F"
      },
      "source": [
        "## Fit model for model training"
      ]
    },
    {
      "cell_type": "code",
      "execution_count": null,
      "metadata": {
        "id": "HHD-ggqiB3zV"
      },
      "outputs": [],
      "source": [
        "model = create_tf_model()\n",
        "\n",
        "history = model.fit(\n",
        "    train_set,\n",
        "    epochs=25,\n",
        "    validation_data=validation_set,\n",
        "    callbacks=[early_stop],\n",
        "    verbose=1\n",
        ")"
      ]
    },
    {
      "cell_type": "markdown",
      "metadata": {
        "id": "rtuBjjzFiQRh"
      },
      "source": [
        "## Save model"
      ]
    },
    {
      "cell_type": "code",
      "execution_count": 53,
      "metadata": {},
      "outputs": [],
      "source": [
        "model.save('outputs/v1/mildew_detector_model.keras')"
      ]
    },
    {
      "cell_type": "markdown",
      "metadata": {
        "id": "Zp4l-B11vCiP"
      },
      "source": [
        "---"
      ]
    },
    {
      "cell_type": "markdown",
      "metadata": {
        "id": "qved3ALYLrng"
      },
      "source": [
        "# Model Performace"
      ]
    },
    {
      "cell_type": "markdown",
      "metadata": {
        "id": "qRwFQLlmwrl9"
      },
      "source": [
        "---"
      ]
    },
    {
      "cell_type": "markdown",
      "metadata": {
        "id": "uESgICbOztUi"
      },
      "source": [
        "## Model learning curves"
      ]
    },
    {
      "cell_type": "code",
      "execution_count": null,
      "metadata": {
        "id": "inzjI5Ve2UVi"
      },
      "outputs": [],
      "source": [
        "# Plot accuracy and loss curves\n",
        "plt.figure(figsize=(12, 4))\n",
        "\n",
        "# Accuracy\n",
        "plt.subplot(1, 2, 1)\n",
        "plt.plot(history.history['accuracy'], label='Train Accuracy')\n",
        "plt.plot(history.history['val_accuracy'], label='Validation Accuracy')\n",
        "plt.title('Model Accuracy')\n",
        "plt.xlabel('Epoch')\n",
        "plt.ylabel('Accuracy')\n",
        "plt.legend()\n",
        "\n",
        "# Loss\n",
        "plt.subplot(1, 2, 2)\n",
        "plt.plot(history.history['loss'], label='Train Loss')\n",
        "plt.plot(history.history['val_loss'], label='Validation Loss')\n",
        "plt.title('Model Loss')\n",
        "plt.xlabel('Epoch')\n",
        "plt.ylabel('Loss')\n",
        "plt.legend()\n",
        "\n",
        "plt.tight_layout()\n",
        "plt.savefig(os.path.join(file_path, 'learning_curves.png'), dpi=150)\n",
        "plt.show()"
      ]
    },
    {
      "cell_type": "markdown",
      "metadata": {
        "id": "_I41227LlqtV"
      },
      "source": [
        "## Model Evaluation"
      ]
    },
    {
      "cell_type": "markdown",
      "metadata": {},
      "source": [
        "Load saved model"
      ]
    },
    {
      "cell_type": "code",
      "execution_count": 55,
      "metadata": {},
      "outputs": [],
      "source": [
        "from keras.models import load_model\n",
        "model = load_model('outputs/v1/mildew_detector_model.keras')"
      ]
    },
    {
      "cell_type": "markdown",
      "metadata": {
        "id": "Auo3VPdvmVL1"
      },
      "source": [
        "Evaluate model on test set"
      ]
    },
    {
      "cell_type": "code",
      "execution_count": null,
      "metadata": {
        "id": "_dsaUbtSlK8V"
      },
      "outputs": [],
      "source": [
        "test_loss, test_accuracy = model.evaluate(test_set, verbose=1)\n",
        "\n",
        "print(f\"Test Accuracy: {test_accuracy:.4f}\")\n",
        "print(f\"Test Loss: {test_loss:.4f}\")"
      ]
    },
    {
      "cell_type": "markdown",
      "metadata": {},
      "source": [
        "### Save evaluation"
      ]
    },
    {
      "cell_type": "code",
      "execution_count": null,
      "metadata": {},
      "outputs": [],
      "source": [
        "evaluation = {\n",
        "    'test_loss': test_loss,\n",
        "    'test_accuracy': test_accuracy\n",
        "}\n",
        "\n",
        "joblib.dump(value=evaluation, filename=os.path.join(file_path, 'evaluation.pkl'))"
      ]
    },
    {
      "cell_type": "markdown",
      "metadata": {
        "id": "rtuBjjzFiQRh"
      },
      "source": [
        "## Predict on new data"
      ]
    },
    {
      "cell_type": "markdown",
      "metadata": {
        "id": "Mt6Esizw677F"
      },
      "source": [
        "Load a random image as PIL\" for two images (one from each label)"
      ]
    },
    {
      "cell_type": "code",
      "execution_count": null,
      "metadata": {
        "id": "Oz-NL2mXaczH"
      },
      "outputs": [],
      "source": [
        "from tensorflow.keras.preprocessing import image\n",
        "import matplotlib.pyplot as plt\n",
        "\n",
        "pointers = [13, 17]\n",
        "pil_images = []\n",
        "\n",
        "# Load images\n",
        "for label, pointer in zip(labels, pointers):\n",
        "    image_path = os.path.join(test_path, label, os.listdir(os.path.join(test_path, label))[pointer])\n",
        "    img = image.load_img(image_path, target_size=image_shape, color_mode='rgb')\n",
        "    pil_images.append((img, label))  # store with label\n",
        "\n",
        "# Plot side-by-side\n",
        "fig, axes = plt.subplots(1, 2, figsize=(10, 5))\n",
        "\n",
        "for i, (img, label) in enumerate(pil_images):\n",
        "    axes[i].imshow(img)\n",
        "    axes[i].axis('off')\n",
        "    axes[i].set_title(f\"Label: {label}\")\n",
        "\n",
        "plt.tight_layout()\n",
        "plt.show()"
      ]
    },
    {
      "cell_type": "markdown",
      "metadata": {
        "id": "QweywGMLm_0V"
      },
      "source": [
        "Convert both PIL images to array and preprocess"
      ]
    },
    {
      "cell_type": "code",
      "execution_count": null,
      "metadata": {
        "id": "ZwoIvJWQcitQ"
      },
      "outputs": [],
      "source": [
        "my_images = []\n",
        "\n",
        "for img, _ in pil_images:\n",
        "    arr = image.img_to_array(img)\n",
        "    arr = np.expand_dims(arr, axis=0) / 255  # Normalize\n",
        "    my_images.append(arr)\n",
        "\n",
        "# Stack into a single array with shape (2, height, width, 3)\n",
        "my_images = np.vstack(my_images)\n",
        "print(my_images.shape)"
      ]
    },
    {
      "cell_type": "markdown",
      "metadata": {
        "id": "nCS7g3CenGJE"
      },
      "source": [
        "Predict probabilities for both images"
      ]
    },
    {
      "cell_type": "code",
      "execution_count": null,
      "metadata": {
        "id": "qkFoAMtUdEO2"
      },
      "outputs": [],
      "source": [
        "pred_proba_array = model.predict(my_images, verbose=0).flatten()\n",
        "\n",
        "# Map index back to label\n",
        "target_map = {v: k for k, v in train_set.class_indices.items()}\n",
        "\n",
        "# Loop over predictions\n",
        "for i, prob in enumerate(pred_proba_array):\n",
        "    pred_class = target_map[int(prob > 0.5)]\n",
        "\n",
        "    # Adjust probability if predicted class is class 0\n",
        "    if pred_class == target_map[0]:\n",
        "        prob = 1 - prob\n",
        "\n",
        "    print(f\"Image {i+1} — Predicted class: {pred_class}, Confidence: {prob:.4f}\")"
      ]
    },
    {
      "cell_type": "markdown",
      "metadata": {
        "id": "61RtitT7v-xv"
      },
      "source": [
        "---"
      ]
    }
  ],
  "metadata": {
    "accelerator": "GPU",
    "colab": {
      "name": "Data Practitioner Jupyter Notebook.ipynb",
      "provenance": [],
      "toc_visible": true
    },
    "kernelspec": {
      "display_name": ".venv",
      "language": "python",
      "name": "python3"
    },
    "language_info": {
      "codemirror_mode": {
        "name": "ipython",
        "version": 3
      },
      "file_extension": ".py",
      "mimetype": "text/x-python",
      "name": "python",
      "nbconvert_exporter": "python",
      "pygments_lexer": "ipython3",
      "version": "3.12.8"
    },
    "orig_nbformat": 2
  },
  "nbformat": 4,
  "nbformat_minor": 2
}
